{
 "cells": [
  {
   "cell_type": "markdown",
   "id": "ca90e19d-e536-4472-b4e8-c29eb7ddf8d1",
   "metadata": {},
   "source": [
    "# What is Data Science"
   ]
  },
  {
   "cell_type": "markdown",
   "id": "e728c57b-abb1-4328-827a-d8803d940ec4",
   "metadata": {},
   "source": [
    "#### Data Science is a field that uses different techniques and methods to extract knowledge and insights and to make predictions possible, that can be used to enhance machine learning and AI uses. Later on, these can be used for personal, professional and global uses, such as business decisions, weather predictions, economic strategics etc. It is the basic tool that makes AI and machine learning possible."
   ]
  },
  {
   "cell_type": "markdown",
   "id": "de7f4ec2-1f34-440b-86ef-90602cab3844",
   "metadata": {},
   "source": [
    "# What's the difference between Structured Data and Unstructured Data?"
   ]
  },
  {
   "cell_type": "markdown",
   "id": "a08c3d47-3ec1-492e-acde-9553c9fae981",
   "metadata": {},
   "source": [
    "####  Structurd Data is all data that is pre-structed in a form of tables, lists and such, and is designated to be used in an orginized database, usually a relational one (best example is an SQL DB format with tables connescted and related). Structured Datd is easy to use, due to its relational nature and pre-prossessed values and synthax, but its uses are limited to the code assigned to it, making it less flexible.\n",
    "#### On the other hand, Unstructured Date is all kind of data that doesn't come in a pre-orgenized way for realational use. Such data can be in form of pictures, sound files, bulks of text information and such. This kind of data allows freedom of use in many ways and fields, because of its native format, enhancing flaxability. Also, because thereis no need to arrange the data in concented forms, the usage is time saving. Then again, because of its wild, unorginized nature, a high level of experese is required to make good use of this kind of data, and it's not for the common user, and it requires special tools to manage and manipulate."
   ]
  },
  {
   "cell_type": "markdown",
   "id": "df92a955-2f90-46b5-8ec5-5e708e35c886",
   "metadata": {},
   "source": [
    "# What's Exploratory Data Analysis?"
   ]
  },
  {
   "cell_type": "markdown",
   "id": "797ad7f9-6156-4ed9-82aa-8c05a1353df6",
   "metadata": {},
   "source": [
    "#### Exploratory Data Analysis is a method used in order to examine and explore the data charactaristics and uses pre-use. This method often includes usage of visual ades to identify the data's variables, determ data distribution and recognize patterns among variables and connections between them. The usage of EDA helps preparing for next steps of the project's process."
   ]
  },
  {
   "cell_type": "markdown",
   "id": "6645b24f-fdb4-437a-84ed-afdd7bca62ca",
   "metadata": {},
   "source": [
    "# What 2 goals can be achieved using Data Science in companies?"
   ]
  },
  {
   "cell_type": "markdown",
   "id": "27bbc141-29e0-48f2-9a84-9b7382e27d98",
   "metadata": {},
   "source": [
    "#### Companies use Data Science for 2 main reasons:\n",
    "    1. Answer a question in order to make a decision - business, productn, management related problem or any other kind can be approached through Data Science, thanks to its predictive capabilities.\n",
    "     2. Solve a problem - When facing an issue to be solved or a task to be handled with, Data Science is often used to approach the problem and produce a solution based on statistics and needs.\n"
   ]
  },
  {
   "cell_type": "markdown",
   "id": "fccdc3a9-6131-4659-9081-119a4d6d9b21",
   "metadata": {},
   "source": [
    "# What are Gen-AI Tools?"
   ]
  },
  {
   "cell_type": "markdown",
   "id": "04938d81-8d38-4be1-8f8f-419a51fc9783",
   "metadata": {},
   "source": [
    "#### Gen AI Tools are applications and platforms that use AI to create content or generate outputs based on input data or prompts, basically the handle of Unstructed Data in forms of Text, Image, Video, Sound etc., and the production of such outputs as well."
   ]
  },
  {
   "cell_type": "markdown",
   "id": "30c67e97-fa97-44d5-a12c-c0498e746384",
   "metadata": {},
   "source": [
    "# With which 3 Python libraries should we work to handle data?"
   ]
  },
  {
   "cell_type": "markdown",
   "id": "7be41dc9-f64f-4f46-9f9d-b57c0b3655d9",
   "metadata": {},
   "source": [
    "#### Three libraries that we are going to make use with in Python are:\n",
    "     1. Pandas, Which enables high level of data manipulation and analysis\n",
    "     2. NumPy - used for complex mathematical computations\n",
    "     3. Matplotlib - enables the usage of static, animated and interactive visual aids, such as graphs, videos etc., that ares used to enhance data visualisation."
   ]
  },
  {
   "cell_type": "markdown",
   "id": "92c4f958-e8b9-491a-b50c-8a44fab796f9",
   "metadata": {},
   "source": [
    "## What makes Jupyter a necessart tool in Data Science?\n",
    "## What is 'Markdown'?\n",
    "## What is the usage of '!' before a command?"
   ]
  },
  {
   "cell_type": "markdown",
   "id": "d3b67714-abb6-46d5-9b23-13210e697672",
   "metadata": {},
   "source": [
    "####   a. Jupyter Notebook is a useful Data Science tool due to its capabilities to explore one line codes and integrate it with visual ades or data visualization, thus providing the need to explore code, outputs or algoritms.\n",
    "####   b. Markdown is a Jupyter feature that enables to create visual aids to the written code. The user can use Markdown to style text's font, size and colour, add pictures or graphs, embed code etc., making the visualization of the code, product and project much more accessible and understandable.\n",
    "####   c.Typing \"!\" before a command in jupyter enables the user to run shell or terminal commands directly from Jupyter."
   ]
  },
  {
   "cell_type": "markdown",
   "id": "2db39ac6-edd6-4db8-bff5-7c08c0189098",
   "metadata": {},
   "source": [
    "![Beautiful Picture](https://th.bing.com/th/id/R.8bf7c82cb9d5b7a21a79a0dc64f4a4a6?rik=L6hU7Bq2ZVFINQ&riu=http%3a%2f%2fwww.aljazeera.com.tr%2fsites%2fdefault%2ffiles%2f2017%2f02%2f07%2fHamaney-promo-Reuters.jpg&ehk=BDfWfCQiy%2fNTHz0cJKde%2fAdrGrvll7T%2fFQisbpUXpeQ%3d&risl=&pid=ImgRaw&r=0)"
   ]
  },
  {
   "cell_type": "code",
   "execution_count": null,
   "id": "fea65e82-85aa-4802-96ec-97152846b337",
   "metadata": {},
   "outputs": [],
   "source": []
  }
 ],
 "metadata": {
  "kernelspec": {
   "display_name": "Python 3 (ipykernel)",
   "language": "python",
   "name": "python3"
  },
  "language_info": {
   "codemirror_mode": {
    "name": "ipython",
    "version": 3
   },
   "file_extension": ".py",
   "mimetype": "text/x-python",
   "name": "python",
   "nbconvert_exporter": "python",
   "pygments_lexer": "ipython3",
   "version": "3.12.7"
  }
 },
 "nbformat": 4,
 "nbformat_minor": 5
}
