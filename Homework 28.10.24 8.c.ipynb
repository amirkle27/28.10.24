{
 "cells": [
  {
   "cell_type": "code",
   "execution_count": 3,
   "id": "c1f11b9d-1b2f-44d5-a8c3-38f44007a831",
   "metadata": {},
   "outputs": [],
   "source": [
    "arr = np"
   ]
  },
  {
   "cell_type": "code",
   "execution_count": null,
   "id": "bdd8eb71-f8d9-406f-bf0e-adb49fb340a9",
   "metadata": {},
   "outputs": [],
   "source": []
  },
  {
   "cell_type": "code",
   "execution_count": null,
   "id": "fa0bd7c3-d779-4c13-a11d-3d4f433a5f1d",
   "metadata": {},
   "outputs": [],
   "source": []
  }
 ],
 "metadata": {
  "kernelspec": {
   "display_name": "Python 3 (ipykernel)",
   "language": "python",
   "name": "python3"
  },
  "language_info": {
   "codemirror_mode": {
    "name": "ipython",
    "version": 3
   },
   "file_extension": ".py",
   "mimetype": "text/x-python",
   "name": "python",
   "nbconvert_exporter": "python",
   "pygments_lexer": "ipython3",
   "version": "3.12.7"
  }
 },
 "nbformat": 4,
 "nbformat_minor": 5
}
